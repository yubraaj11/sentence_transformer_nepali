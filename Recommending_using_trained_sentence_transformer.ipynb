{
  "nbformat": 4,
  "nbformat_minor": 0,
  "metadata": {
    "colab": {
      "provenance": [],
      "gpuType": "T4",
      "authorship_tag": "ABX9TyOx3AO+F1GclEGMYol5+RSR",
      "include_colab_link": true
    },
    "kernelspec": {
      "name": "python3",
      "display_name": "Python 3"
    },
    "language_info": {
      "name": "python"
    },
    "accelerator": "GPU"
  },
  "cells": [
    {
      "cell_type": "markdown",
      "metadata": {
        "id": "view-in-github",
        "colab_type": "text"
      },
      "source": [
        "<a href=\"https://colab.research.google.com/github/yubraaj11/sentence_transformer_nepali/blob/master/Recommending_using_trained_sentence_transformer.ipynb\" target=\"_parent\"><img src=\"https://colab.research.google.com/assets/colab-badge.svg\" alt=\"Open In Colab\"/></a>"
      ]
    },
    {
      "cell_type": "code",
      "execution_count": 1,
      "metadata": {
        "colab": {
          "base_uri": "https://localhost:8080/"
        },
        "id": "8Bf8SH8NYnz1",
        "outputId": "61d6ba24-b65f-4233-a65b-a3d7c391fb71"
      },
      "outputs": [
        {
          "output_type": "stream",
          "name": "stdout",
          "text": [
            "Mon Jun  5 07:10:02 2023       \n",
            "+-----------------------------------------------------------------------------+\n",
            "| NVIDIA-SMI 525.85.12    Driver Version: 525.85.12    CUDA Version: 12.0     |\n",
            "|-------------------------------+----------------------+----------------------+\n",
            "| GPU  Name        Persistence-M| Bus-Id        Disp.A | Volatile Uncorr. ECC |\n",
            "| Fan  Temp  Perf  Pwr:Usage/Cap|         Memory-Usage | GPU-Util  Compute M. |\n",
            "|                               |                      |               MIG M. |\n",
            "|===============================+======================+======================|\n",
            "|   0  Tesla T4            Off  | 00000000:00:04.0 Off |                    0 |\n",
            "| N/A   65C    P8    11W /  70W |      0MiB / 15360MiB |      0%      Default |\n",
            "|                               |                      |                  N/A |\n",
            "+-------------------------------+----------------------+----------------------+\n",
            "                                                                               \n",
            "+-----------------------------------------------------------------------------+\n",
            "| Processes:                                                                  |\n",
            "|  GPU   GI   CI        PID   Type   Process name                  GPU Memory |\n",
            "|        ID   ID                                                   Usage      |\n",
            "|=============================================================================|\n",
            "|  No running processes found                                                 |\n",
            "+-----------------------------------------------------------------------------+\n"
          ]
        }
      ],
      "source": [
        "!nvidia-smi"
      ]
    },
    {
      "cell_type": "code",
      "source": [
        "from google.colab import drive\n",
        "drive.mount('/content/drive')"
      ],
      "metadata": {
        "colab": {
          "base_uri": "https://localhost:8080/"
        },
        "id": "A-kDhy1FZC5w",
        "outputId": "944edefa-378c-4337-bc3b-68053e7769e8"
      },
      "execution_count": 2,
      "outputs": [
        {
          "output_type": "stream",
          "name": "stdout",
          "text": [
            "Mounted at /content/drive\n"
          ]
        }
      ]
    },
    {
      "cell_type": "markdown",
      "source": [
        "## Defining the path for the trained and saved SentenceTransformer model to produce encodings of the scraped dataset."
      ],
      "metadata": {
        "id": "rLy_4gxPZbPa"
      }
    },
    {
      "cell_type": "code",
      "source": [
        "model_path = '/content/drive/My Drive/trained_Model/sentence_transformer_nepali' \n",
        "csv_path = '/content/drive/MyDrive/Datasets/3k_News.csv'"
      ],
      "metadata": {
        "id": "DAWpVJCkZUya"
      },
      "execution_count": 3,
      "outputs": []
    },
    {
      "cell_type": "code",
      "source": [
        "import pandas as pd"
      ],
      "metadata": {
        "id": "7IQXU3luZ-9w"
      },
      "execution_count": 4,
      "outputs": []
    },
    {
      "cell_type": "code",
      "source": [
        "df = pd.read_csv(csv_path, index_col=0, nrows=100)\n",
        "df"
      ],
      "metadata": {
        "colab": {
          "base_uri": "https://localhost:8080/",
          "height": 424
        },
        "id": "pXORmeY3aBfV",
        "outputId": "96d57456-90d5-40db-982c-6620d81ee214"
      },
      "execution_count": 9,
      "outputs": [
        {
          "output_type": "execute_result",
          "data": {
            "text/plain": [
              "    id                                              title  \\\n",
              "0    0     काँक्राका फाइदै-फाइदा, कुन समयमा खानु राम्रो ?   \n",
              "1    1             थाइराइडका बिरामीले के खाने, के नखाने ?   \n",
              "2    2  बच्चामा अन्धोपनको जोखिम बढाउने आरओपी समस्या के...   \n",
              "3    3    फुङलिङमा सवारी दुर्घटनामा परी एक बालककाे मृत्यु   \n",
              "4    4  जोर्डनका युवराज र साउदी युवतीबीचको विवाह किन छ...   \n",
              "..  ..                                                ...   \n",
              "95  95             भोलि काठमाडौं उपत्यकामा सार्वजनिक बिदा   \n",
              "96  96  ग्यास र बिजुली प्रयोगको शिक्षा विद्यालयकै पाठ्...   \n",
              "97  97  गौतमबुद्ध विमानस्थलबाट लक्ष्यको १० प्रतिशत मात...   \n",
              "98  98  ज्ञानेन्द्र शाहीको प्रश्न : आईजीपीलाई निलम्बन ...   \n",
              "99  99   कसरी गर्ने एन्जाइटी नियन्त्रण ? यस्ता छन् ८ उपाय   \n",
              "\n",
              "                                              article  \\\n",
              "0    चर्को गर्मीमा काँक्रा खानुको मज्जा नै बेग्लै ...   \n",
              "1    काठमाडौं । शरीरलाई राम्रोसँग काम गर्न विभिन्न...   \n",
              "2    सामान्य बच्चाको तुलनामा समयअगावै जन्मिएका बच्...   \n",
              "3    १२ जेठ, ताप्लेजुङ। स्कार्पियाे दुर्घटनामा बिह...   \n",
              "4    १२ जेठ, काठमाडौं । जोर्डनका युवराज हुसेन बिन ...   \n",
              "..                                                ...   \n",
              "95   १० जेठ, काठमाडौं । भोटो देखाउने जात्राको अवसर...   \n",
              "96   १० जेठ, काठमाडौं । नेपाली कांग्रेसका सांसद चन...   \n",
              "97   १० जेठ, काठमाडौं । नेपालको दोस्रो अन्तर्राष्ट...   \n",
              "98   १० जेठ, काठमाडौं। राष्ट्रिय प्रजातन्त्र पार्ट...   \n",
              "99   हरेक व्यक्तिमा कुनै न कुनै तनाव त भइरहन्छ । त...   \n",
              "\n",
              "                                            link  \n",
              "0   https://www.onlinekhabar.com/2023/05/1312396  \n",
              "1   https://www.onlinekhabar.com/2023/05/1312323  \n",
              "2   https://www.onlinekhabar.com/2023/05/1312266  \n",
              "3   https://www.onlinekhabar.com/2023/05/1312637  \n",
              "4   https://www.onlinekhabar.com/2023/05/1312564  \n",
              "..                                           ...  \n",
              "95  https://www.onlinekhabar.com/2023/05/1311800  \n",
              "96  https://www.onlinekhabar.com/2023/05/1311778  \n",
              "97  https://www.onlinekhabar.com/2023/05/1311777  \n",
              "98  https://www.onlinekhabar.com/2023/05/1311764  \n",
              "99  https://www.onlinekhabar.com/2023/05/1311635  \n",
              "\n",
              "[100 rows x 4 columns]"
            ],
            "text/html": [
              "\n",
              "  <div id=\"df-c8d42842-a287-4bf0-9028-2d87885efeb5\">\n",
              "    <div class=\"colab-df-container\">\n",
              "      <div>\n",
              "<style scoped>\n",
              "    .dataframe tbody tr th:only-of-type {\n",
              "        vertical-align: middle;\n",
              "    }\n",
              "\n",
              "    .dataframe tbody tr th {\n",
              "        vertical-align: top;\n",
              "    }\n",
              "\n",
              "    .dataframe thead th {\n",
              "        text-align: right;\n",
              "    }\n",
              "</style>\n",
              "<table border=\"1\" class=\"dataframe\">\n",
              "  <thead>\n",
              "    <tr style=\"text-align: right;\">\n",
              "      <th></th>\n",
              "      <th>id</th>\n",
              "      <th>title</th>\n",
              "      <th>article</th>\n",
              "      <th>link</th>\n",
              "    </tr>\n",
              "  </thead>\n",
              "  <tbody>\n",
              "    <tr>\n",
              "      <th>0</th>\n",
              "      <td>0</td>\n",
              "      <td>काँक्राका फाइदै-फाइदा, कुन समयमा खानु राम्रो ?</td>\n",
              "      <td>चर्को गर्मीमा काँक्रा खानुको मज्जा नै बेग्लै ...</td>\n",
              "      <td>https://www.onlinekhabar.com/2023/05/1312396</td>\n",
              "    </tr>\n",
              "    <tr>\n",
              "      <th>1</th>\n",
              "      <td>1</td>\n",
              "      <td>थाइराइडका बिरामीले के खाने, के नखाने ?</td>\n",
              "      <td>काठमाडौं । शरीरलाई राम्रोसँग काम गर्न विभिन्न...</td>\n",
              "      <td>https://www.onlinekhabar.com/2023/05/1312323</td>\n",
              "    </tr>\n",
              "    <tr>\n",
              "      <th>2</th>\n",
              "      <td>2</td>\n",
              "      <td>बच्चामा अन्धोपनको जोखिम बढाउने आरओपी समस्या के...</td>\n",
              "      <td>सामान्य बच्चाको तुलनामा समयअगावै जन्मिएका बच्...</td>\n",
              "      <td>https://www.onlinekhabar.com/2023/05/1312266</td>\n",
              "    </tr>\n",
              "    <tr>\n",
              "      <th>3</th>\n",
              "      <td>3</td>\n",
              "      <td>फुङलिङमा सवारी दुर्घटनामा परी एक बालककाे मृत्यु</td>\n",
              "      <td>१२ जेठ, ताप्लेजुङ। स्कार्पियाे दुर्घटनामा बिह...</td>\n",
              "      <td>https://www.onlinekhabar.com/2023/05/1312637</td>\n",
              "    </tr>\n",
              "    <tr>\n",
              "      <th>4</th>\n",
              "      <td>4</td>\n",
              "      <td>जोर्डनका युवराज र साउदी युवतीबीचको विवाह किन छ...</td>\n",
              "      <td>१२ जेठ, काठमाडौं । जोर्डनका युवराज हुसेन बिन ...</td>\n",
              "      <td>https://www.onlinekhabar.com/2023/05/1312564</td>\n",
              "    </tr>\n",
              "    <tr>\n",
              "      <th>...</th>\n",
              "      <td>...</td>\n",
              "      <td>...</td>\n",
              "      <td>...</td>\n",
              "      <td>...</td>\n",
              "    </tr>\n",
              "    <tr>\n",
              "      <th>95</th>\n",
              "      <td>95</td>\n",
              "      <td>भोलि काठमाडौं उपत्यकामा सार्वजनिक बिदा</td>\n",
              "      <td>१० जेठ, काठमाडौं । भोटो देखाउने जात्राको अवसर...</td>\n",
              "      <td>https://www.onlinekhabar.com/2023/05/1311800</td>\n",
              "    </tr>\n",
              "    <tr>\n",
              "      <th>96</th>\n",
              "      <td>96</td>\n",
              "      <td>ग्यास र बिजुली प्रयोगको शिक्षा विद्यालयकै पाठ्...</td>\n",
              "      <td>१० जेठ, काठमाडौं । नेपाली कांग्रेसका सांसद चन...</td>\n",
              "      <td>https://www.onlinekhabar.com/2023/05/1311778</td>\n",
              "    </tr>\n",
              "    <tr>\n",
              "      <th>97</th>\n",
              "      <td>97</td>\n",
              "      <td>गौतमबुद्ध विमानस्थलबाट लक्ष्यको १० प्रतिशत मात...</td>\n",
              "      <td>१० जेठ, काठमाडौं । नेपालको दोस्रो अन्तर्राष्ट...</td>\n",
              "      <td>https://www.onlinekhabar.com/2023/05/1311777</td>\n",
              "    </tr>\n",
              "    <tr>\n",
              "      <th>98</th>\n",
              "      <td>98</td>\n",
              "      <td>ज्ञानेन्द्र शाहीको प्रश्न : आईजीपीलाई निलम्बन ...</td>\n",
              "      <td>१० जेठ, काठमाडौं। राष्ट्रिय प्रजातन्त्र पार्ट...</td>\n",
              "      <td>https://www.onlinekhabar.com/2023/05/1311764</td>\n",
              "    </tr>\n",
              "    <tr>\n",
              "      <th>99</th>\n",
              "      <td>99</td>\n",
              "      <td>कसरी गर्ने एन्जाइटी नियन्त्रण ? यस्ता छन् ८ उपाय</td>\n",
              "      <td>हरेक व्यक्तिमा कुनै न कुनै तनाव त भइरहन्छ । त...</td>\n",
              "      <td>https://www.onlinekhabar.com/2023/05/1311635</td>\n",
              "    </tr>\n",
              "  </tbody>\n",
              "</table>\n",
              "<p>100 rows × 4 columns</p>\n",
              "</div>\n",
              "      <button class=\"colab-df-convert\" onclick=\"convertToInteractive('df-c8d42842-a287-4bf0-9028-2d87885efeb5')\"\n",
              "              title=\"Convert this dataframe to an interactive table.\"\n",
              "              style=\"display:none;\">\n",
              "        \n",
              "  <svg xmlns=\"http://www.w3.org/2000/svg\" height=\"24px\"viewBox=\"0 0 24 24\"\n",
              "       width=\"24px\">\n",
              "    <path d=\"M0 0h24v24H0V0z\" fill=\"none\"/>\n",
              "    <path d=\"M18.56 5.44l.94 2.06.94-2.06 2.06-.94-2.06-.94-.94-2.06-.94 2.06-2.06.94zm-11 1L8.5 8.5l.94-2.06 2.06-.94-2.06-.94L8.5 2.5l-.94 2.06-2.06.94zm10 10l.94 2.06.94-2.06 2.06-.94-2.06-.94-.94-2.06-.94 2.06-2.06.94z\"/><path d=\"M17.41 7.96l-1.37-1.37c-.4-.4-.92-.59-1.43-.59-.52 0-1.04.2-1.43.59L10.3 9.45l-7.72 7.72c-.78.78-.78 2.05 0 2.83L4 21.41c.39.39.9.59 1.41.59.51 0 1.02-.2 1.41-.59l7.78-7.78 2.81-2.81c.8-.78.8-2.07 0-2.86zM5.41 20L4 18.59l7.72-7.72 1.47 1.35L5.41 20z\"/>\n",
              "  </svg>\n",
              "      </button>\n",
              "      \n",
              "  <style>\n",
              "    .colab-df-container {\n",
              "      display:flex;\n",
              "      flex-wrap:wrap;\n",
              "      gap: 12px;\n",
              "    }\n",
              "\n",
              "    .colab-df-convert {\n",
              "      background-color: #E8F0FE;\n",
              "      border: none;\n",
              "      border-radius: 50%;\n",
              "      cursor: pointer;\n",
              "      display: none;\n",
              "      fill: #1967D2;\n",
              "      height: 32px;\n",
              "      padding: 0 0 0 0;\n",
              "      width: 32px;\n",
              "    }\n",
              "\n",
              "    .colab-df-convert:hover {\n",
              "      background-color: #E2EBFA;\n",
              "      box-shadow: 0px 1px 2px rgba(60, 64, 67, 0.3), 0px 1px 3px 1px rgba(60, 64, 67, 0.15);\n",
              "      fill: #174EA6;\n",
              "    }\n",
              "\n",
              "    [theme=dark] .colab-df-convert {\n",
              "      background-color: #3B4455;\n",
              "      fill: #D2E3FC;\n",
              "    }\n",
              "\n",
              "    [theme=dark] .colab-df-convert:hover {\n",
              "      background-color: #434B5C;\n",
              "      box-shadow: 0px 1px 3px 1px rgba(0, 0, 0, 0.15);\n",
              "      filter: drop-shadow(0px 1px 2px rgba(0, 0, 0, 0.3));\n",
              "      fill: #FFFFFF;\n",
              "    }\n",
              "  </style>\n",
              "\n",
              "      <script>\n",
              "        const buttonEl =\n",
              "          document.querySelector('#df-c8d42842-a287-4bf0-9028-2d87885efeb5 button.colab-df-convert');\n",
              "        buttonEl.style.display =\n",
              "          google.colab.kernel.accessAllowed ? 'block' : 'none';\n",
              "\n",
              "        async function convertToInteractive(key) {\n",
              "          const element = document.querySelector('#df-c8d42842-a287-4bf0-9028-2d87885efeb5');\n",
              "          const dataTable =\n",
              "            await google.colab.kernel.invokeFunction('convertToInteractive',\n",
              "                                                     [key], {});\n",
              "          if (!dataTable) return;\n",
              "\n",
              "          const docLinkHtml = 'Like what you see? Visit the ' +\n",
              "            '<a target=\"_blank\" href=https://colab.research.google.com/notebooks/data_table.ipynb>data table notebook</a>'\n",
              "            + ' to learn more about interactive tables.';\n",
              "          element.innerHTML = '';\n",
              "          dataTable['output_type'] = 'display_data';\n",
              "          await google.colab.output.renderOutput(dataTable, element);\n",
              "          const docLink = document.createElement('div');\n",
              "          docLink.innerHTML = docLinkHtml;\n",
              "          element.appendChild(docLink);\n",
              "        }\n",
              "      </script>\n",
              "    </div>\n",
              "  </div>\n",
              "  "
            ]
          },
          "metadata": {},
          "execution_count": 9
        }
      ]
    },
    {
      "cell_type": "code",
      "source": [
        "import torch \n",
        "device = torch.device(\"cuda\" if torch.cuda.is_available() else \"cpu\")\n",
        "device"
      ],
      "metadata": {
        "colab": {
          "base_uri": "https://localhost:8080/"
        },
        "id": "aTtnTynzaGFc",
        "outputId": "30174b8d-bb3e-4408-d248-9a68f016ea9d"
      },
      "execution_count": 6,
      "outputs": [
        {
          "output_type": "execute_result",
          "data": {
            "text/plain": [
              "device(type='cuda')"
            ]
          },
          "metadata": {},
          "execution_count": 6
        }
      ]
    },
    {
      "cell_type": "code",
      "source": [
        "!pip install sentence_transformers"
      ],
      "metadata": {
        "colab": {
          "base_uri": "https://localhost:8080/"
        },
        "id": "xonIK3n0asKX",
        "outputId": "31df9443-9ae7-4c41-f9c7-36a883018ef7"
      },
      "execution_count": 7,
      "outputs": [
        {
          "output_type": "stream",
          "name": "stdout",
          "text": [
            "Looking in indexes: https://pypi.org/simple, https://us-python.pkg.dev/colab-wheels/public/simple/\n",
            "Collecting sentence_transformers\n",
            "  Downloading sentence-transformers-2.2.2.tar.gz (85 kB)\n",
            "\u001b[2K     \u001b[90m━━━━━━━━━━━━━━━━━━━━━━━━━━━━━━━━━━━━━━━━\u001b[0m \u001b[32m86.0/86.0 kB\u001b[0m \u001b[31m4.7 MB/s\u001b[0m eta \u001b[36m0:00:00\u001b[0m\n",
            "\u001b[?25h  Preparing metadata (setup.py) ... \u001b[?25l\u001b[?25hdone\n",
            "Collecting transformers<5.0.0,>=4.6.0 (from sentence_transformers)\n",
            "  Downloading transformers-4.29.2-py3-none-any.whl (7.1 MB)\n",
            "\u001b[2K     \u001b[90m━━━━━━━━━━━━━━━━━━━━━━━━━━━━━━━━━━━━━━━━\u001b[0m \u001b[32m7.1/7.1 MB\u001b[0m \u001b[31m85.8 MB/s\u001b[0m eta \u001b[36m0:00:00\u001b[0m\n",
            "\u001b[?25hRequirement already satisfied: tqdm in /usr/local/lib/python3.10/dist-packages (from sentence_transformers) (4.65.0)\n",
            "Requirement already satisfied: torch>=1.6.0 in /usr/local/lib/python3.10/dist-packages (from sentence_transformers) (2.0.1+cu118)\n",
            "Requirement already satisfied: torchvision in /usr/local/lib/python3.10/dist-packages (from sentence_transformers) (0.15.2+cu118)\n",
            "Requirement already satisfied: numpy in /usr/local/lib/python3.10/dist-packages (from sentence_transformers) (1.22.4)\n",
            "Requirement already satisfied: scikit-learn in /usr/local/lib/python3.10/dist-packages (from sentence_transformers) (1.2.2)\n",
            "Requirement already satisfied: scipy in /usr/local/lib/python3.10/dist-packages (from sentence_transformers) (1.10.1)\n",
            "Requirement already satisfied: nltk in /usr/local/lib/python3.10/dist-packages (from sentence_transformers) (3.8.1)\n",
            "Collecting sentencepiece (from sentence_transformers)\n",
            "  Downloading sentencepiece-0.1.99-cp310-cp310-manylinux_2_17_x86_64.manylinux2014_x86_64.whl (1.3 MB)\n",
            "\u001b[2K     \u001b[90m━━━━━━━━━━━━━━━━━━━━━━━━━━━━━━━━━━━━━━━━\u001b[0m \u001b[32m1.3/1.3 MB\u001b[0m \u001b[31m87.6 MB/s\u001b[0m eta \u001b[36m0:00:00\u001b[0m\n",
            "\u001b[?25hCollecting huggingface-hub>=0.4.0 (from sentence_transformers)\n",
            "  Downloading huggingface_hub-0.15.1-py3-none-any.whl (236 kB)\n",
            "\u001b[2K     \u001b[90m━━━━━━━━━━━━━━━━━━━━━━━━━━━━━━━━━━━━━━\u001b[0m \u001b[32m236.8/236.8 kB\u001b[0m \u001b[31m33.0 MB/s\u001b[0m eta \u001b[36m0:00:00\u001b[0m\n",
            "\u001b[?25hRequirement already satisfied: filelock in /usr/local/lib/python3.10/dist-packages (from huggingface-hub>=0.4.0->sentence_transformers) (3.12.0)\n",
            "Requirement already satisfied: fsspec in /usr/local/lib/python3.10/dist-packages (from huggingface-hub>=0.4.0->sentence_transformers) (2023.4.0)\n",
            "Requirement already satisfied: requests in /usr/local/lib/python3.10/dist-packages (from huggingface-hub>=0.4.0->sentence_transformers) (2.27.1)\n",
            "Requirement already satisfied: pyyaml>=5.1 in /usr/local/lib/python3.10/dist-packages (from huggingface-hub>=0.4.0->sentence_transformers) (6.0)\n",
            "Requirement already satisfied: typing-extensions>=3.7.4.3 in /usr/local/lib/python3.10/dist-packages (from huggingface-hub>=0.4.0->sentence_transformers) (4.5.0)\n",
            "Requirement already satisfied: packaging>=20.9 in /usr/local/lib/python3.10/dist-packages (from huggingface-hub>=0.4.0->sentence_transformers) (23.1)\n",
            "Requirement already satisfied: sympy in /usr/local/lib/python3.10/dist-packages (from torch>=1.6.0->sentence_transformers) (1.11.1)\n",
            "Requirement already satisfied: networkx in /usr/local/lib/python3.10/dist-packages (from torch>=1.6.0->sentence_transformers) (3.1)\n",
            "Requirement already satisfied: jinja2 in /usr/local/lib/python3.10/dist-packages (from torch>=1.6.0->sentence_transformers) (3.1.2)\n",
            "Requirement already satisfied: triton==2.0.0 in /usr/local/lib/python3.10/dist-packages (from torch>=1.6.0->sentence_transformers) (2.0.0)\n",
            "Requirement already satisfied: cmake in /usr/local/lib/python3.10/dist-packages (from triton==2.0.0->torch>=1.6.0->sentence_transformers) (3.25.2)\n",
            "Requirement already satisfied: lit in /usr/local/lib/python3.10/dist-packages (from triton==2.0.0->torch>=1.6.0->sentence_transformers) (16.0.5)\n",
            "Requirement already satisfied: regex!=2019.12.17 in /usr/local/lib/python3.10/dist-packages (from transformers<5.0.0,>=4.6.0->sentence_transformers) (2022.10.31)\n",
            "Collecting tokenizers!=0.11.3,<0.14,>=0.11.1 (from transformers<5.0.0,>=4.6.0->sentence_transformers)\n",
            "  Downloading tokenizers-0.13.3-cp310-cp310-manylinux_2_17_x86_64.manylinux2014_x86_64.whl (7.8 MB)\n",
            "\u001b[2K     \u001b[90m━━━━━━━━━━━━━━━━━━━━━━━━━━━━━━━━━━━━━━━━\u001b[0m \u001b[32m7.8/7.8 MB\u001b[0m \u001b[31m118.6 MB/s\u001b[0m eta \u001b[36m0:00:00\u001b[0m\n",
            "\u001b[?25hRequirement already satisfied: click in /usr/local/lib/python3.10/dist-packages (from nltk->sentence_transformers) (8.1.3)\n",
            "Requirement already satisfied: joblib in /usr/local/lib/python3.10/dist-packages (from nltk->sentence_transformers) (1.2.0)\n",
            "Requirement already satisfied: threadpoolctl>=2.0.0 in /usr/local/lib/python3.10/dist-packages (from scikit-learn->sentence_transformers) (3.1.0)\n",
            "Requirement already satisfied: pillow!=8.3.*,>=5.3.0 in /usr/local/lib/python3.10/dist-packages (from torchvision->sentence_transformers) (8.4.0)\n",
            "Requirement already satisfied: MarkupSafe>=2.0 in /usr/local/lib/python3.10/dist-packages (from jinja2->torch>=1.6.0->sentence_transformers) (2.1.2)\n",
            "Requirement already satisfied: urllib3<1.27,>=1.21.1 in /usr/local/lib/python3.10/dist-packages (from requests->huggingface-hub>=0.4.0->sentence_transformers) (1.26.15)\n",
            "Requirement already satisfied: certifi>=2017.4.17 in /usr/local/lib/python3.10/dist-packages (from requests->huggingface-hub>=0.4.0->sentence_transformers) (2022.12.7)\n",
            "Requirement already satisfied: charset-normalizer~=2.0.0 in /usr/local/lib/python3.10/dist-packages (from requests->huggingface-hub>=0.4.0->sentence_transformers) (2.0.12)\n",
            "Requirement already satisfied: idna<4,>=2.5 in /usr/local/lib/python3.10/dist-packages (from requests->huggingface-hub>=0.4.0->sentence_transformers) (3.4)\n",
            "Requirement already satisfied: mpmath>=0.19 in /usr/local/lib/python3.10/dist-packages (from sympy->torch>=1.6.0->sentence_transformers) (1.3.0)\n",
            "Building wheels for collected packages: sentence_transformers\n",
            "  Building wheel for sentence_transformers (setup.py) ... \u001b[?25l\u001b[?25hdone\n",
            "  Created wheel for sentence_transformers: filename=sentence_transformers-2.2.2-py3-none-any.whl size=125926 sha256=1e2782dfecea84ab161a69e6c27c2aa8d5f446786217c3d9a8bdb35bece51686\n",
            "  Stored in directory: /root/.cache/pip/wheels/62/f2/10/1e606fd5f02395388f74e7462910fe851042f97238cbbd902f\n",
            "Successfully built sentence_transformers\n",
            "Installing collected packages: tokenizers, sentencepiece, huggingface-hub, transformers, sentence_transformers\n",
            "Successfully installed huggingface-hub-0.15.1 sentence_transformers-2.2.2 sentencepiece-0.1.99 tokenizers-0.13.3 transformers-4.29.2\n"
          ]
        }
      ]
    },
    {
      "cell_type": "code",
      "source": [
        "from sentence_transformers import SentenceTransformer\n",
        "\n",
        "model = SentenceTransformer(model_path)\n",
        "model.to(device)\n",
        "model"
      ],
      "metadata": {
        "colab": {
          "base_uri": "https://localhost:8080/"
        },
        "id": "uy5VBTrzaxur",
        "outputId": "d2db31d5-50fd-44d7-d346-7da6ec8653a9"
      },
      "execution_count": 8,
      "outputs": [
        {
          "output_type": "execute_result",
          "data": {
            "text/plain": [
              "SentenceTransformer(\n",
              "  (0): Transformer({'max_seq_length': 512, 'do_lower_case': False}) with Transformer model: BertModel \n",
              "  (1): Pooling({'word_embedding_dimension': 768, 'pooling_mode_cls_token': False, 'pooling_mode_mean_tokens': True, 'pooling_mode_max_tokens': False, 'pooling_mode_mean_sqrt_len_tokens': False})\n",
              ")"
            ]
          },
          "metadata": {},
          "execution_count": 8
        }
      ]
    },
    {
      "cell_type": "code",
      "source": [
        "embeddings = model.encode(df['article'])\n",
        "embeddings.shape"
      ],
      "metadata": {
        "colab": {
          "base_uri": "https://localhost:8080/"
        },
        "id": "URFuE0uHa7SV",
        "outputId": "1490e7d0-c76c-4f09-a44e-597632eccc93"
      },
      "execution_count": 10,
      "outputs": [
        {
          "output_type": "execute_result",
          "data": {
            "text/plain": [
              "(100, 768)"
            ]
          },
          "metadata": {},
          "execution_count": 10
        }
      ]
    },
    {
      "cell_type": "code",
      "source": [
        "from sklearn.metrics.pairwise import cosine_similarity\n",
        "\n",
        "cosine_similarities = cosine_similarity(embeddings, embeddings)\n",
        "\n",
        "cosine_similarities.shape"
      ],
      "metadata": {
        "colab": {
          "base_uri": "https://localhost:8080/"
        },
        "id": "MRuowI6xb9fS",
        "outputId": "29fa01d7-dc91-4204-b62e-57833359333f"
      },
      "execution_count": 12,
      "outputs": [
        {
          "output_type": "execute_result",
          "data": {
            "text/plain": [
              "(100, 100)"
            ]
          },
          "metadata": {},
          "execution_count": 12
        }
      ]
    },
    {
      "cell_type": "code",
      "source": [
        "results = {}\n",
        "for idx, row in df.iterrows():\n",
        "    similar_indices = cosine_similarities[idx].argsort()[:-100:-1]\n",
        "    similar_items = [(cosine_similarities[idx][i], df['id'][i]) for i in similar_indices]\n",
        "    results[row['id']] = similar_items[1:]\n",
        "print('done!')"
      ],
      "metadata": {
        "colab": {
          "base_uri": "https://localhost:8080/"
        },
        "id": "2J0sw4Qmbmqg",
        "outputId": "5e94c613-33f7-443a-8f63-bd3691a74300"
      },
      "execution_count": 13,
      "outputs": [
        {
          "output_type": "stream",
          "name": "stdout",
          "text": [
            "done!\n"
          ]
        }
      ]
    },
    {
      "cell_type": "code",
      "source": [
        "similar_indices[:10]"
      ],
      "metadata": {
        "colab": {
          "base_uri": "https://localhost:8080/"
        },
        "id": "lhWYDqOGbuXe",
        "outputId": "06a2bc5e-9e06-4e7a-aa49-4c0d5e17747f"
      },
      "execution_count": 14,
      "outputs": [
        {
          "output_type": "execute_result",
          "data": {
            "text/plain": [
              "array([99,  1, 85,  0, 61, 38,  2, 96,  5, 65])"
            ]
          },
          "metadata": {},
          "execution_count": 14
        }
      ]
    },
    {
      "cell_type": "code",
      "source": [
        "def item(id):\n",
        "    return df.loc[df['id'] == id]['title'].tolist()[0].split(' - ')[0]\n",
        "\n",
        "# Just reads the results out of the dictionary.\n",
        "def recommend(item_id, num):\n",
        "    print(\"Recommending \" + str(num) + \" products similar to \" + item(item_id) + \"...\")\n",
        "    print(\"-------\")\n",
        "    recs = results[item_id][:num]\n",
        "    for rec in recs:\n",
        "        print(\"Recommended : \" + item(rec[1]) + \" (score:\" + str(rec[0]) + \")\",end='\\n\\n')\n",
        "\n",
        "recommend(item_id=10, num=10)"
      ],
      "metadata": {
        "colab": {
          "base_uri": "https://localhost:8080/"
        },
        "id": "t_FFV5w8cPd0",
        "outputId": "be54644f-f3ec-47ed-849f-22eae7e148bd"
      },
      "execution_count": 15,
      "outputs": [
        {
          "output_type": "stream",
          "name": "stdout",
          "text": [
            "Recommending 10 products similar to जनकपुर ११ का वडाध्यक्ष र वडासचिवविरुद्ध भ्रष्टाचारको मुद्दा...\n",
            "-------\n",
            "Recommended : ढोरपाटनका मेयरलाई एमालेले गर्‍यो प्रदेश कमिटीबाट निलम्बन (score:0.8611749)\n",
            "\n",
            "Recommended : सप्तरीमा करेन्ट लागेर एक विद्यार्थीको मृत्यु, घटनाको विरोधमा प्रदर्शन (score:0.8346316)\n",
            "\n",
            "Recommended : सरकारी वकिलको दाबी : टोपबहादुर पनि प्रमुख योजनाकार (score:0.81892264)\n",
            "\n",
            "Recommended : कैलालीमा लागुऔषधसहित चार जना पक्राउ (score:0.8143764)\n",
            "\n",
            "Recommended : रेशम चौधरीलाई आममाफी नदिन राष्ट्रपति कार्यालयमा निवेदन (score:0.81278366)\n",
            "\n",
            "Recommended : मेटमणि चौधरीले मागे अख्तियार प्रमुख राईको राजीनामा (score:0.8052186)\n",
            "\n",
            "Recommended : खाँणलाई हिरासतबाट टेकनारायणको सन्देश : प्रधानमन्त्रीलाई भनेर अनुसन्धान रोक्नुस्, पैसा फिर्ता गरिदिनुस् (score:0.80361426)\n",
            "\n",
            "Recommended : कांग्रेसको प्रचार विभाग प्रमुखमा विश्वकर्मा (score:0.80210096)\n",
            "\n",
            "Recommended : नक्कली भुटानी शरणार्थी प्रकरणमा ३० जनाविरुद्ध मुद्दा (score:0.7982111)\n",
            "\n",
            "Recommended : फुङलिङमा सवारी दुर्घटनामा परी एक बालककाे मृत्यु (score:0.79282504)\n",
            "\n"
          ]
        }
      ]
    },
    {
      "cell_type": "code",
      "source": [
        "def recomendation(idx,no_of_news_article):\n",
        "    #get similarity values with other articles\n",
        "    similarity_score = list(enumerate(cosine_similarities[idx]))\n",
        "    similarity_score = sorted(similarity_score, key=lambda x: x[1], reverse=True)\n",
        "    # Get the scores of the n most similar news articles. Ignore the first movie.\n",
        "    similarity_score = similarity_score[1:no_of_news_article+1]\n",
        "    \n",
        "    print(\"Article Read -- \" + df['title'].iloc[idx] +\" link --\"+ df['link'].iloc[idx])\n",
        "    print(\" ---------------------------------------------------------- \")\n",
        "    news_indices = [i[0] for i in similarity_score]\n",
        "    for i in range(len(news_indices)):\n",
        "        print(\"Recomendation \"+ str(i+1)+\" --- \" +str(news_indices[i])+\"(IDX)  \"+ df['title'].iloc[news_indices[i]] +\" || Link --\"+ df['link'].iloc[news_indices[i]] +\" score -- \"+ str(similarity_score[i][1]))\n",
        "        print()"
      ],
      "metadata": {
        "id": "V79F2gOBcUGf"
      },
      "execution_count": 16,
      "outputs": []
    },
    {
      "cell_type": "code",
      "source": [
        "idx=11\n",
        "no_of_news_article=5\n",
        "recomendation(idx,no_of_news_article)"
      ],
      "metadata": {
        "colab": {
          "base_uri": "https://localhost:8080/"
        },
        "id": "wJuC2D-acf0E",
        "outputId": "2c016307-1deb-4a97-d91b-d5078be476c8"
      },
      "execution_count": 18,
      "outputs": [
        {
          "output_type": "stream",
          "name": "stdout",
          "text": [
            "Article Read -- रेशम चौधरीलाई आममाफी नदिन राष्ट्रपति कार्यालयमा निवेदन link --https://www.onlinekhabar.com/2023/05/1312657\n",
            " ---------------------------------------------------------- \n",
            "Recomendation 1 --- 19(IDX)  रेशम चौधरीलाई आममाफी दिने प्रक्रिया रोक्न जनमोर्चाको माग || Link --https://www.onlinekhabar.com/2023/05/1312558 score -- 0.9396926\n",
            "\n",
            "Recomendation 2 --- 30(IDX)  रेशम चौधरीको सजाय माफीको प्रस्ताव राष्ट्रपति कार्यालयमा || Link --https://www.onlinekhabar.com/2023/05/1312247 score -- 0.93701804\n",
            "\n",
            "Recomendation 3 --- 90(IDX)  नक्कली भुटानी शरणार्थी प्रकरण : दोस्रो चरणको अनुसन्धान थाल्न प्रहरीलाई निर्देशन || Link --https://www.onlinekhabar.com/2023/05/1311882 score -- 0.93645394\n",
            "\n",
            "Recomendation 4 --- 89(IDX)  शरणार्थी शिविरमा दलाली धन्दा चलाउन खोजिएको भन्दा गृह सचिवको जवाफ : टेन्सन नलिनू || Link --https://www.onlinekhabar.com/2023/05/1311890 score -- 0.9243067\n",
            "\n",
            "Recomendation 5 --- 92(IDX)  ‘विदेशी नागरिकता त्यागेको निस्सा तपाईंलाई बुझाउनुपर्ने हो ?’ || Link --https://www.onlinekhabar.com/2023/05/1311863 score -- 0.92134696\n",
            "\n"
          ]
        }
      ]
    },
    {
      "cell_type": "code",
      "source": [],
      "metadata": {
        "id": "jkbwgwJWckj-"
      },
      "execution_count": null,
      "outputs": []
    }
  ]
}